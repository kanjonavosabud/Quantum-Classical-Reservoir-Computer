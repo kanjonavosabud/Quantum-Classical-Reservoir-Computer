{
  "cells": [
    {
      "cell_type": "markdown",
      "metadata": {
        "id": "GBq9YbfJz4wI"
      },
      "source": [
        "*Lorenz 63*"
      ]
    },
    {
      "cell_type": "code",
      "execution_count": null,
      "metadata": {
        "colab": {
          "background_save": true
        },
        "id": "g8bUP80V54pC",
        "outputId": "03544df6-4550-4b03-e7ec-1f0bbb625977"
      },
      "outputs": [
        {
          "name": "stdout",
          "output_type": "stream",
          "text": [
            "Requirement already satisfied: reservoirpy in /usr/local/lib/python3.10/dist-packages (0.3.11)\n",
            "Requirement already satisfied: dill>=0.3.1.1 in /usr/local/lib/python3.10/dist-packages (from reservoirpy) (0.3.8)\n",
            "Requirement already satisfied: joblib>=0.14.1 in /usr/local/lib/python3.10/dist-packages (from reservoirpy) (1.4.2)\n",
            "Requirement already satisfied: numpy>=1.21.1 in /usr/local/lib/python3.10/dist-packages (from reservoirpy) (1.25.2)\n",
            "Requirement already satisfied: scipy>=1.4.1 in /usr/local/lib/python3.10/dist-packages (from reservoirpy) (1.11.4)\n",
            "Requirement already satisfied: tqdm>=4.43.0 in /usr/local/lib/python3.10/dist-packages (from reservoirpy) (4.66.4)\n"
          ]
        }
      ],
      "source": [
        "!pip install reservoirpy"
      ]
    },
    {
      "cell_type": "code",
      "execution_count": null,
      "metadata": {
        "colab": {
          "background_save": true
        },
        "id": "Lz_HAmcdz2fw"
      },
      "outputs": [],
      "source": [
        "import reservoirpy as res\n",
        "\n",
        "import numpy as np\n",
        "import pandas as pd\n",
        "\n",
        "import sys\n",
        "import scipy.sparse as sparse\n",
        "from scipy.sparse import linalg\n",
        "import matplotlib.pyplot as plt\n",
        "# from matplotlib import cm\n",
        "# import math\n",
        "import keras\n",
        "from keras.models import Sequential\n",
        "from keras import layers\n",
        "from keras.layers import Dense, Dropout, Activation\n",
        "from keras.optimizers import RMSprop, SGD, Adagrad, Adadelta\n",
        "from numpy import genfromtxt"
      ]
    },
    {
      "cell_type": "code",
      "execution_count": null,
      "metadata": {
        "colab": {
          "background_save": true
        },
        "id": "az275swAIMby"
      },
      "outputs": [],
      "source": [
        "# %pip install quantumreservoirpy"
      ]
    },
    {
      "cell_type": "code",
      "execution_count": null,
      "metadata": {
        "id": "rJroU4jdIH4j"
      },
      "outputs": [],
      "source": [
        "%pip install reservoirpy\n",
        "# Uncomment if running for first time"
      ]
    },
    {
      "cell_type": "code",
      "execution_count": null,
      "metadata": {
        "id": "-iUhWpf2HXNX"
      },
      "outputs": [],
      "source": [
        "from reservoirpy.datasets import lorenz"
      ]
    },
    {
      "cell_type": "code",
      "execution_count": null,
      "metadata": {
        "id": "AMrwyZSwIdvu"
      },
      "outputs": [],
      "source": [
        "##### CONSTANTS #####\n",
        "\n",
        "# totalSteps/train/test\n",
        "# 5000/4500/500\n",
        "# 10000/9000/1000\n",
        "# 20000/18000/2000\n",
        "\n",
        "number_of_features = 3\n",
        "reservoir_dim = 300\n",
        "edge_creation_prob = 0.1\n",
        "spectral_radius = 1.2\n",
        "\n",
        "train_test_split_ratio = 0.05\n",
        "n_timesteps = 20000\n",
        "\n",
        "sigma, rho, beta, h = 10, 28, 8/3, 0.02"
      ]
    },
    {
      "cell_type": "code",
      "execution_count": null,
      "metadata": {
        "id": "8gbfMQKoIvYc"
      },
      "outputs": [],
      "source": [
        "##### DATASET #####\n",
        "\n",
        "def dataset(n_timesteps):\n",
        "    training_split = train_test_split_ratio\n",
        "    n_timesteps = n_timesteps\n",
        "    data = lorenz(n_timesteps=n_timesteps, sigma=sigma, rho=rho, beta=beta, h=h)\n",
        "    training_data = np.array(data[:int(n_timesteps*training_split)])\n",
        "    testing_data = np.array(data[int(n_timesteps*training_split):])\n",
        "\n",
        "    return data, training_data, testing_data"
      ]
    },
    {
      "cell_type": "code",
      "execution_count": null,
      "metadata": {
        "id": "sDD0r-cLJaju"
      },
      "outputs": [],
      "source": [
        "data, _,_= dataset(n_timesteps)"
      ]
    },
    {
      "cell_type": "code",
      "execution_count": null,
      "metadata": {
        "id": "LEIZ0d5IJ67w"
      },
      "outputs": [],
      "source": [
        "shifter, trainlength = 0, 18000"
      ]
    },
    {
      "cell_type": "code",
      "execution_count": null,
      "metadata": {
        "id": "tS-S5p55JANF"
      },
      "outputs": [],
      "source": [
        "# training the reservoir\n",
        "train = data[shifter:shifter+trainlength,:]\n",
        "label = data[1+shifter:1+shifter+trainlength,:]\n",
        "print('np.shape(train)', np.shape(train))\n",
        "print('np.shape(label)', np.shape(label))\n",
        "print(train)\n",
        "print(label)"
      ]
    },
    {
      "cell_type": "code",
      "execution_count": null,
      "metadata": {
        "id": "tGBq_hTSKe3U"
      },
      "outputs": [],
      "source": [
        "y_train = label - train\n",
        "x_train = train\n",
        "print('np.shape(y_train)', np.shape(y_train))\n",
        "print('np.shape(x_train)', np.shape(x_train))"
      ]
    },
    {
      "cell_type": "code",
      "execution_count": null,
      "metadata": {
        "id": "BUSMmjcEKfkv"
      },
      "outputs": [],
      "source": [
        "#building of neural network model\n",
        "#activation function used is tanh\n",
        "\n",
        "model = Sequential()\n",
        "model.add(Dense(3, input_dim=3, activation='tanh'))\n",
        "model.add(Dense(100, activation='tanh'))\n",
        "model.add(Dense(100, activation='tanh'))\n",
        "model.add(Dense(100, activation='tanh'))\n",
        "model.add(Dense(100, activation='tanh'))\n",
        "model.add(Dense(3, activation='tanh'))"
      ]
    },
    {
      "cell_type": "code",
      "execution_count": null,
      "metadata": {
        "colab": {
          "background_save": true
        },
        "id": "Frqr_NgWKl97",
        "outputId": "14c2a5c3-d0b1-41d0-a8e0-55dfe35eec12"
      },
      "outputs": [
        {
          "name": "stdout",
          "output_type": "stream",
          "text": [
            "Epoch 1/20\n",
            "113/113 [==============================] - 2s 6ms/step - loss: 0.7697 - mae: 0.7697 - accuracy: 0.4990 - val_loss: 0.7157 - val_mae: 0.7157 - val_accuracy: 0.5156\n",
            "Epoch 2/20\n",
            "113/113 [==============================] - 0s 4ms/step - loss: 0.6670 - mae: 0.6670 - accuracy: 0.5180 - val_loss: 0.6713 - val_mae: 0.6713 - val_accuracy: 0.5361\n",
            "Epoch 3/20\n",
            "113/113 [==============================] - 1s 4ms/step - loss: 0.6489 - mae: 0.6489 - accuracy: 0.6194 - val_loss: 0.6613 - val_mae: 0.6613 - val_accuracy: 0.6428\n",
            "Epoch 4/20\n",
            "113/113 [==============================] - 0s 4ms/step - loss: 0.6417 - mae: 0.6417 - accuracy: 0.6506 - val_loss: 0.6539 - val_mae: 0.6539 - val_accuracy: 0.6511\n",
            "Epoch 5/20\n",
            "113/113 [==============================] - 0s 4ms/step - loss: 0.6344 - mae: 0.6344 - accuracy: 0.6495 - val_loss: 0.6445 - val_mae: 0.6445 - val_accuracy: 0.6336\n",
            "Epoch 6/20\n",
            "113/113 [==============================] - 1s 5ms/step - loss: 0.6240 - mae: 0.6240 - accuracy: 0.6515 - val_loss: 0.6304 - val_mae: 0.6304 - val_accuracy: 0.6739\n",
            "Epoch 7/20\n",
            "113/113 [==============================] - 1s 6ms/step - loss: 0.6045 - mae: 0.6045 - accuracy: 0.6549 - val_loss: 0.6072 - val_mae: 0.6072 - val_accuracy: 0.6269\n",
            "Epoch 8/20\n",
            "113/113 [==============================] - 1s 6ms/step - loss: 0.5876 - mae: 0.5876 - accuracy: 0.6524 - val_loss: 0.5936 - val_mae: 0.5936 - val_accuracy: 0.6575\n",
            "Epoch 9/20\n",
            "113/113 [==============================] - 1s 10ms/step - loss: 0.5799 - mae: 0.5799 - accuracy: 0.6587 - val_loss: 0.5864 - val_mae: 0.5864 - val_accuracy: 0.6569\n",
            "Epoch 10/20\n",
            "113/113 [==============================] - 1s 6ms/step - loss: 0.5733 - mae: 0.5733 - accuracy: 0.6531 - val_loss: 0.5816 - val_mae: 0.5816 - val_accuracy: 0.6569\n",
            "Epoch 11/20\n",
            "113/113 [==============================] - 1s 8ms/step - loss: 0.5665 - mae: 0.5665 - accuracy: 0.6522 - val_loss: 0.5795 - val_mae: 0.5795 - val_accuracy: 0.6478\n",
            "Epoch 12/20\n",
            "113/113 [==============================] - 1s 8ms/step - loss: 0.5614 - mae: 0.5614 - accuracy: 0.6221 - val_loss: 0.5756 - val_mae: 0.5756 - val_accuracy: 0.6136\n",
            "Epoch 13/20\n",
            "113/113 [==============================] - 1s 8ms/step - loss: 0.5596 - mae: 0.5596 - accuracy: 0.5834 - val_loss: 0.5915 - val_mae: 0.5915 - val_accuracy: 0.4964\n",
            "Epoch 14/20\n",
            "113/113 [==============================] - 1s 9ms/step - loss: 0.5566 - mae: 0.5566 - accuracy: 0.5499 - val_loss: 0.5698 - val_mae: 0.5698 - val_accuracy: 0.4597\n",
            "Epoch 15/20\n",
            "113/113 [==============================] - 1s 12ms/step - loss: 0.5568 - mae: 0.5568 - accuracy: 0.5222 - val_loss: 0.5646 - val_mae: 0.5646 - val_accuracy: 0.5950\n",
            "Epoch 16/20\n",
            "113/113 [==============================] - 1s 8ms/step - loss: 0.5534 - mae: 0.5534 - accuracy: 0.5290 - val_loss: 0.5589 - val_mae: 0.5589 - val_accuracy: 0.5108\n",
            "Epoch 17/20\n",
            "113/113 [==============================] - 1s 11ms/step - loss: 0.5520 - mae: 0.5520 - accuracy: 0.5170 - val_loss: 0.5647 - val_mae: 0.5647 - val_accuracy: 0.5675\n",
            "Epoch 18/20\n",
            "113/113 [==============================] - 1s 7ms/step - loss: 0.5500 - mae: 0.5500 - accuracy: 0.5294 - val_loss: 0.5589 - val_mae: 0.5589 - val_accuracy: 0.4925\n",
            "Epoch 19/20\n",
            "113/113 [==============================] - 1s 7ms/step - loss: 0.5488 - mae: 0.5488 - accuracy: 0.5272 - val_loss: 0.5553 - val_mae: 0.5553 - val_accuracy: 0.4661\n",
            "Epoch 20/20\n",
            "113/113 [==============================] - 1s 8ms/step - loss: 0.5477 - mae: 0.5477 - accuracy: 0.5294 - val_loss: 0.5488 - val_mae: 0.5488 - val_accuracy: 0.5992\n"
          ]
        }
      ],
      "source": [
        "#compilation of model\n",
        "model.compile(loss='mean_absolute_error', optimizer='SGD', metrics=['mae','accuracy'])\n",
        "#fitting of the model\n",
        "model.fit(x_train, y_train,batch_size=128, epochs=20, validation_split=0.2)\n",
        "\n",
        "#weights of the network are computed using backpropagation optimized by the stochastic gradient descent\n",
        "model.save_weights(\"./weights_Shift\"+str(shifter)+\"K\")"
      ]
    },
    {
      "cell_type": "code",
      "execution_count": null,
      "metadata": {
        "colab": {
          "background_save": true
        },
        "id": "A6Lo8UUDD2Wm",
        "outputId": "335c2f36-4721-4db5-ab2b-b1b9cc6a725f"
      },
      "outputs": [
        {
          "name": "stdout",
          "output_type": "stream",
          "text": [
            "np.shape(train) (1999, 3)\n",
            "np.shape(label) (1999, 3)\n",
            "[[ 0.64105871  0.90174738 14.26616138]\n",
            " [ 0.70372562  1.07140379 13.53810607]\n",
            " [ 0.78830732  1.26859963 12.85191724]\n",
            " ...\n",
            " [ 2.07725677  4.45037536 22.84454693]\n",
            " [ 2.5216661   4.62078544 21.86214618]\n",
            " [ 2.92356614  4.88609447 20.98010084]]\n",
            "[[ 0.70372562  1.07140379 13.53810607]\n",
            " [ 0.78830732  1.26859963 12.85191724]\n",
            " [ 0.89669112  1.50103165 12.20707718]\n",
            " ...\n",
            " [ 2.5216661   4.62078544 21.86214618]\n",
            " [ 2.92356614  4.88609447 20.98010084]\n",
            " [ 3.31158226  5.2481854  20.19822893]]\n"
          ]
        }
      ],
      "source": [
        "test = data[shifter+trainlength:-1,:]\n",
        "label = data[1+shifter+trainlength:,:]\n",
        "print('np.shape(train)', np.shape(test))\n",
        "print('np.shape(label)', np.shape(label))\n",
        "print(test)\n",
        "print(label)"
      ]
    },
    {
      "cell_type": "code",
      "execution_count": null,
      "metadata": {
        "colab": {
          "background_save": true
        },
        "id": "Sn_oWCPMEjF8",
        "outputId": "71702f3d-0902-42a1-a425-3b75699a533e"
      },
      "outputs": [
        {
          "name": "stdout",
          "output_type": "stream",
          "text": [
            "np.shape(y_train) (1999, 3)\n"
          ]
        }
      ],
      "source": [
        "y_test = label-test\n",
        "print('np.shape(y_train)', np.shape(y_test))"
      ]
    },
    {
      "cell_type": "markdown",
      "metadata": {
        "id": "c2M1EvB8E-D1"
      },
      "source": [
        "## Adam Bashford Integration Scheme\n",
        "![image.png](data:image/png;base64,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)"
      ]
    },
    {
      "cell_type": "code",
      "execution_count": null,
      "metadata": {
        "colab": {
          "background_save": true
        },
        "id": "KXKUP_prF2s2"
      },
      "outputs": [],
      "source": [
        "predLength = 2000"
      ]
    },
    {
      "cell_type": "code",
      "execution_count": null,
      "metadata": {
        "colab": {
          "background_save": true
        },
        "id": "tS66_tTHKUIB",
        "outputId": "7b08264a-32d0-4f24-fa1c-ea6c7d847a4e"
      },
      "outputs": [
        {
          "name": "stdout",
          "output_type": "stream",
          "text": [
            "np.shape(train) (2, 3)\n",
            "1/1 [==============================] - 0s 140ms/step\n",
            "[[ 0.08480985  0.11710206 -0.939609  ]\n",
            " [ 0.08756029  0.11419978 -0.9350542 ]]\n"
          ]
        }
      ],
      "source": [
        "initial_input = np.array([x_train[-2],x_train[-1]])\n",
        "print('np.shape(train)', np.shape(initial_input))\n",
        "basePreds = model.predict(initial_input)\n",
        "print(basePreds)"
      ]
    },
    {
      "cell_type": "code",
      "execution_count": null,
      "metadata": {
        "id": "zMuU7WDJE6yi"
      },
      "outputs": [],
      "source": [
        "preds = basePreds\n",
        "input_series = [x_train[-1]]\n",
        "for i in range(predLength):\n",
        "  last, secondLast = preds[-1], preds[-2]\n",
        "  input = input_series[-1] + 0.5*(3*last - secondLast)\n",
        "  input_series.append(input)\n",
        "  prediction = model.predict(np.array([input]),verbose=0)\n",
        "  preds = np.append(preds,prediction, axis=0)\n",
        "  # print(i)\n",
        "\n",
        "print(preds)\n",
        "print('np.shape(predictions)', np.shape(preds))"
      ]
    },
    {
      "cell_type": "code",
      "execution_count": null,
      "metadata": {
        "id": "dcZ4faqOPtPY"
      },
      "outputs": [],
      "source": [
        "print(input_series)\n",
        "print('np.shape(predictions)', np.shape(input_series))\n",
        "print('np.shape(y_train)', np.shape(y_test))"
      ]
    },
    {
      "cell_type": "code",
      "execution_count": null,
      "metadata": {
        "id": "5mC846q_9Ihu"
      },
      "outputs": [],
      "source": [
        "y = np.transpose(y_test)\n",
        "x = np.transpose(input_series[:-2])\n",
        "\n",
        "\n",
        "fig, ax = plt.subplots(3, 1, figsize=(9, 9))\n",
        "t = [i for i in range(trainlength, trainlength + predLength - 1)]\n",
        "# t = [i for i in range(trainlength, trainlength + 50)]\n",
        "\n",
        "temp = ['X', 'Y', 'Z']\n",
        "color_table = ['red', 'green', 'blue']\n",
        "for i in range(3):\n",
        "  title = \"Artifical Neural Network -- Timestep: 502000\"\n",
        "  if i == 0:\n",
        "    new_title = title + '\\n' + \"Predicted Lorenz \" + temp[i] + \" Data and Actual Lorenz \" + temp[i] + \" Data\"\n",
        "  else:\n",
        "    new_title = \"Predicted Lorenz \" + temp[i] + \" Data and Actual Lorenz \" + temp[i] + \" Data\"\n",
        "  ax[i].set_title(new_title)\n",
        "  ax[i].set_xlabel(\"timestep\")\n",
        "  # ax[i].plot(t, y[i, :50], label=temp[i], color=color_table[i])\n",
        "  # ax[i].plot(t, x[i, :50], label=temp[i]+\"_pred\")\n",
        "  ax[i].plot(t, y[i], label=temp[i], color=color_table[i])\n",
        "  ax[i].plot(t, x[i], label=temp[i]+\"_pred\")\n",
        "  ax[i].legend()\n",
        "\n",
        "fig.tight_layout()\n",
        "\n",
        "plt.show()"
      ]
    },
    {
      "cell_type": "code",
      "execution_count": null,
      "metadata": {
        "id": "hRvGOHP_MqK9"
      },
      "outputs": [],
      "source": [
        "def plot_graphs(test, pred, title=None):\n",
        "  fig, ax = plt.subplots(3, 1, figsize=(9, 9))\n",
        "\n",
        "  t = [i for i in range(trainlength, trainlength + predLength)]\n",
        "  ax[i].set_xlabel(\"timestep\")\n",
        "  ax[i].plot(t, test[:, i], label=temp[i], color=color_table[i])\n",
        "  ax[i].plot(t, pred[:, i], label=temp[i]+\"_pred\")\n",
        "  ax[i].legend()\n",
        "\n",
        "  fig.tight_layout()\n",
        "\n",
        "  plt.show()"
      ]
    },
    {
      "cell_type": "code",
      "execution_count": null,
      "metadata": {
        "id": "rCUx1dmgmyO5"
      },
      "outputs": [],
      "source": [
        "def average_forecast_horizon(preds, actual):\n",
        "  s = np.std(actual)\n",
        "  x, y, z = 0, 0, 0\n",
        "  for i, vals in enumerate(preds):\n",
        "    x += (preds[i][0] - actual[i][0]) < s\n",
        "    y += (preds[i][1] - actual[i][1]) < s\n",
        "    z += (preds[i][2] - actual[i][2]) < s\n",
        "  return x/len(preds), y/len(preds), z/len(preds)"
      ]
    },
    {
      "cell_type": "code",
      "execution_count": null,
      "metadata": {
        "id": "6OewlbAumysb"
      },
      "outputs": [],
      "source": [
        "print(average_forecast_horizon(x, y))"
      ]
    },
    {
      "cell_type": "code",
      "execution_count": null,
      "metadata": {
        "id": "KjK-Aklk5ueH"
      },
      "outputs": [],
      "source": []
    }
  ],
  "metadata": {
    "colab": {
      "provenance": []
    },
    "kernelspec": {
      "display_name": "Python 3",
      "name": "python3"
    },
    "language_info": {
      "name": "python"
    }
  },
  "nbformat": 4,
  "nbformat_minor": 0
}